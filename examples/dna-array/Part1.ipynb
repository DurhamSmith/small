{
 "cells": [
  {
   "cell_type": "markdown",
   "metadata": {},
   "source": [
    "# Introduction\n",
    "This tutorial aims to show how a 8x8 array of DNA tiles based on the work of Tikhomirov et al, shown below, can be created in `small`.\n",
    "![title](tile-array.png)\n",
    "The tutorial is divided into 3 parts, each aimed at introducing some of `small`s capabilites and the key ideas behind them while laying down the code needed to create an array of DNA tiles.\n",
    "In the first part we cover the basic syntax of `common lisp` so that even those unfamilar with the language may easily follow along. Along side this we introduce the DNA model that `small` uses to represent DNA, showcase some of the API functionality for creating representations of objects made of DNA and define our own such object to represent the scaffold of one of the four triangles that a single tile in the array is made of. \n",
    "\n",
    "The next section shows how `small` allows one to build nanostructures of ever increasing size. We learn how to geometrically manipulate the triangle we created in part 1 and how to connect four such triangles to create a full tile used in the 8x8 array. We show how we can associate key-value pairs to parts of DNA structures and how we can retrieve structures based on these key-value pairs. Additionally how to create staple strands to hold the created tile together is also shown.\n",
    "\n",
    "Part 3 shows how these tiles are in turn used to create a DNA array and how staple strands can be extended to create arbitrary patterns on these arrays.\n"
   ]
  },
  {
   "cell_type": "markdown",
   "metadata": {},
   "source": [
    "## Introduction  to Common Lisp\n",
    "Those unfamiliar with Lisp might be confused by the syntax and the abundance of parenthesis. This is no reason for concern, in-fact it is what give the Lisp family of languages their incredible expressive power. Lisp code is comprised of s-expressions, which can either be lists or atoms. Lists are delimited by parentheses and can contain any number of whitespace-separated elements. Atoms are everything else, for example a number, a character or a user defined object. Code and data are represented by lists, hence the large amount of parenthesis.\n",
    "\n",
    "Code to call a function is composed of a list, with the first list entry being the function name and the next entries being its arguments. E.g.\n"
   ]
  },
  {
   "cell_type": "code",
   "execution_count": 1,
   "metadata": {},
   "outputs": [
    {
     "data": {
      "text/plain": [
       "3"
      ]
     },
     "execution_count": 1,
     "metadata": {},
     "output_type": "execute_result"
    }
   ],
   "source": [
    "(+ 1 2)"
   ]
  },
  {
   "cell_type": "markdown",
   "metadata": {},
   "source": [
    "When evaluating multiple lists the inner most lists are evaluated before the enclosing list. E.g;"
   ]
  },
  {
   "cell_type": "code",
   "execution_count": 2,
   "metadata": {},
   "outputs": [
    {
     "data": {
      "text/plain": [
       "2"
      ]
     },
     "execution_count": 2,
     "metadata": {},
     "output_type": "execute_result"
    }
   ],
   "source": [
    "(- (+ 2 3) (+ 1 2))"
   ]
  },
  {
   "cell_type": "markdown",
   "metadata": {},
   "source": [
    "\n",
    "Lists can also contain data, say for example a list of values (1 2) or all the nucleotides in a strand of DNA. If we wanted to create a list with data we cannot simply type (1 2) as Lisp will try to interpret first value in the list as the function name, resulting in an illegal function call `ERROR`."
   ]
  },
  {
   "cell_type": "code",
   "execution_count": 3,
   "metadata": {},
   "outputs": [
    {
     "ename": "COMPILED-PROGRAM-ERROR",
     "evalue": "Execution of a form compiled with errors.\nForm:\n  (1 2)\nCompile-time error:\n  illegal function call",
     "output_type": "error",
     "traceback": []
    },
    {
     "name": "stderr",
     "output_type": "stream",
     "text": [
      "; in: 1 2\n",
      ";     (1 2)\n",
      "\n",
      "; \n",
      "; caught ERROR:\n",
      ";   illegal function call\n",
      "\n",
      "; \n",
      "; compilation unit finished\n",
      ";   caught 1 ERROR condition\n",
      "Execution of a form compiled with errors.\n",
      "Form:\n",
      "  (1 2)\n",
      "Compile-time error:\n",
      "  illegal function call\n",
      "   [Condition of type SB-INT:COMPILED-PROGRAM-ERROR]\n",
      "\n",
      "#<ENVIRONMENT {100313B4C3}>\n",
      "   [Environment of thread #<THREAD \"SHELL Thread\" RUNNING {1004D147C3}>]\n",
      "\n",
      "\n",
      "Backtrace:\n",
      " 5: (SB-KERNEL::%SIGNAL Execution of a form compiled with errors.\n",
      "Form:\n",
      "  (1 2)\n",
      "Compile-time error:\n",
      "  illegal function call)\n",
      " 6: (ERROR COMPILED-PROGRAM-ERROR MESSAGE illegal function call SOURCE (1 2))\n",
      " 7: ((LAMBDA NIL))\n",
      " 8: (SB-INT:SIMPLE-EVAL-IN-LEXENV (1 2) #<NULL-LEXENV>)\n",
      " 9: (EVAL (1 2))\n",
      " 10: (COMMON-LISP-JUPYTER::MY-EVAL (1 2))\n",
      " 11: ((:METHOD JUPYTER:EVALUATE-CODE (COMMON-LISP-JUPYTER:KERNEL T)) #<unused argument> (1 2)\n",
      ")\n",
      " 12: (JUPYTER::HANDLE-EXECUTE-REQUEST #<KERNEL {10039D0FB3}> #<MESSAGE {1002E81293}>)\n",
      " 13: (JUPYTER::HANDLE-SHELL-MESSAGE #<KERNEL {10039D0FB3}> #<MESSAGE {1002E81293}>)\n",
      " 14: (JUPYTER::RUN-SHELL #<KERNEL {10039D0FB3}>)\n",
      " 15: ((LAMBDA NIL :IN BORDEAUX-THREADS::BINDING-DEFAULT-SPECIALS))\n",
      " 16: ((FLET SB-UNIX::BODY :IN SB-THREAD::NEW-LISP-THREAD-TRAMPOLINE))\n",
      " 17: ((FLET \"WITHOUT-INTERRUPTS-BODY-4\" :IN SB-THREAD::NEW-LISP-THREAD-TRAMPOLINE))\n",
      " 18: ((FLET SB-THREAD::WITH-MUTEX-THUNK :IN SB-THREAD::NEW-LISP-THREAD-TRAMPOLINE))\n",
      " 19: ((FLET \"WITHOUT-INTERRUPTS-BODY-1\" :IN SB-THREAD::CALL-WITH-MUTEX))\n",
      " 20: (SB-THREAD::CALL-WITH-MUTEX #<CLOSURE (FLET SB-THREAD::WITH-MUTEX-THUNK :IN SB-THREAD::NEW-LISP-THREAD-TRAMPOLINE) {7F0E15CA6D7B}> #<MUTEX \"thread result lock\" owner: #<SB-THREAD:THREAD \"SHELL Thread\" RUNNING {1004D147C3}>> NIL T NIL)\n",
      " 21: (SB-THREAD::NEW-LISP-THREAD-TRAMPOLINE #<THREAD \"SHELL Thread\" RUNNING {1004D147C3}> NIL #<CLOSURE (LAMBDA NIL :IN BORDEAUX-THREADS::BINDING-DEFAULT-SPECIALS) {1004D1476B}> NIL)\n",
      " 22: (\"foreign function: call_into_lisp\")\n",
      " 23: (\"foreign function: new_thread_trampoline\")"
     ]
    }
   ],
   "source": [
    "(1 2)\n"
   ]
  },
  {
   "cell_type": "markdown",
   "metadata": {},
   "source": [
    "To get around this we can use the `quote` function. It takes one argument and returns exactly that argument, without evaluating anything in it or trying to interpret first list entry as a function name."
   ]
  },
  {
   "cell_type": "code",
   "execution_count": 5,
   "metadata": {},
   "outputs": [
    {
     "data": {
      "text/plain": [
       "(+ 1 2)"
      ]
     },
     "execution_count": 5,
     "metadata": {},
     "output_type": "execute_result"
    }
   ],
   "source": [
    "(quote (+ 1 2))"
   ]
  },
  {
   "cell_type": "code",
   "execution_count": 6,
   "metadata": {},
   "outputs": [
    {
     "data": {
      "text/plain": [
       "(:I (+ 1 2) (+ 2 3))"
      ]
     },
     "execution_count": 6,
     "metadata": {},
     "output_type": "execute_result"
    }
   ],
   "source": [
    "(quote (:i (+ 1 2) (+ 2 3)))"
   ]
  },
  {
   "cell_type": "markdown",
   "metadata": {},
   "source": [
    "Since lists are so prolific in Lisp the syntax has a lot of syntactic sugar to deal with their manipulation. For example instead or writing quote we can just write ' before the argument we normally pass to quote."
   ]
  },
  {
   "cell_type": "code",
   "execution_count": 7,
   "metadata": {},
   "outputs": [
    {
     "data": {
      "text/plain": [
       "(:I (+ 1 2) (+ 2 3))"
      ]
     },
     "execution_count": 7,
     "metadata": {},
     "output_type": "execute_result"
    }
   ],
   "source": [
    "'(:i (+ 1 2) (+ 2 3))"
   ]
  },
  {
   "cell_type": "markdown",
   "metadata": {},
   "source": [
    "Notice how the lists containing the `+` are not evaluated. If we did want it to be evaluated we could use the function `list` which takes n arguments, evaluates them and returns the values results from evaluating them in a list of length n.\n"
   ]
  },
  {
   "cell_type": "code",
   "execution_count": 8,
   "metadata": {},
   "outputs": [
    {
     "data": {
      "text/plain": [
       "(:I 3 5 10 \"DNA nanotechnology is fun!\")"
      ]
     },
     "execution_count": 8,
     "metadata": {},
     "output_type": "execute_result"
    }
   ],
   "source": [
    "(list :i (+ 1 2) (+ 2 3) 10 \"DNA nanotechnology is fun!\")"
   ]
  },
  {
   "cell_type": "markdown",
   "metadata": {},
   "source": [
    "Another syntactic sugar that we use is backquote, `` ```. We need to understand its use if we want to understand create-staple and find-obj-with-props. Just like the syntactic sugar for quote, `'`, in fact using it in place of quote yields the same result.\n"
   ]
  },
  {
   "cell_type": "code",
   "execution_count": 12,
   "metadata": {},
   "outputs": [
    {
     "data": {
      "text/plain": [
       "((+ 1 2) (+ 2 3))"
      ]
     },
     "execution_count": 12,
     "metadata": {},
     "output_type": "execute_result"
    }
   ],
   "source": [
    "`((+ 1 2) (+ 2 3))"
   ]
  },
  {
   "cell_type": "markdown",
   "metadata": {},
   "source": [
    "Where its behavior of `` ` `` is different to that of `'` is when an s-expression in the list is preceded by a `,`. When this happens the expression is evaluated and placed in the resulting list, e.g."
   ]
  },
  {
   "cell_type": "code",
   "execution_count": 13,
   "metadata": {},
   "outputs": [
    {
     "data": {
      "text/plain": [
       "((+ 1 2) 5)"
      ]
     },
     "execution_count": 13,
     "metadata": {},
     "output_type": "execute_result"
    }
   ],
   "source": [
    "`((+ 1 2) ,(+ 2 3))"
   ]
  },
  {
   "cell_type": "markdown",
   "metadata": {},
   "source": [
    "# Introduction to `small`\n",
    "\n",
    "First we need to tell Common Lisp that we to use of the `small` package to gain access to its functionality it provides. First we load the package using [quicklisp](https://www.quicklisp.org/beta/).\n"
   ]
  },
  {
   "cell_type": "code",
   "execution_count": 15,
   "metadata": {},
   "outputs": [
    {
     "name": "stdout",
     "output_type": "stream",
     "text": [
      "To load \"small\":\n",
      "  Load 1 ASDF system:\n",
      "    small\n",
      "\n",
      "; Loading \"small\"\n",
      "..."
     ]
    },
    {
     "data": {
      "text/plain": [
       "(:SMALL)"
      ]
     },
     "execution_count": 15,
     "metadata": {},
     "output_type": "execute_result"
    },
    {
     "name": "stdout",
     "output_type": "stream",
     "text": [
      "\n"
     ]
    }
   ],
   "source": [
    "(ql:quickload :small)\n"
   ]
  },
  {
   "cell_type": "code",
   "execution_count": null,
   "metadata": {},
   "outputs": [],
   "source": [
    "N"
   ]
  },
  {
   "cell_type": "code",
   "execution_count": 16,
   "metadata": {},
   "outputs": [
    {
     "data": {
      "text/plain": [
       "#<PACKAGE \"SMALL\">"
      ]
     },
     "execution_count": 16,
     "metadata": {},
     "output_type": "execute_result"
    }
   ],
   "source": [
    "(in-package :small)"
   ]
  },
  {
   "cell_type": "markdown",
   "metadata": {},
   "source": [
    "## Creating constants\n",
    "In this section we  introduce the constants defined in [Tikhomirov et al](https://doi.org/10.1038/nnano.2016.256) that implement the geometric model of DNA that they use. See [pages 7-11 of the supplementary information](https://static-content.springer.com/esm/art%3A10.1038%2Fnnano.2016.256/MediaObjects/41565_2017_BFnnano2016256_MOESM28_ESM.pdf) for information on the geometric model.\n",
    "\n",
    "To do so we use the [`defparameter` function](http://clhs.lisp.se/Body/m_defpar.htm), which binds a value to a variable. The list items that follow are the arguments to the function. In this case the fist argument is the variable name and the second argument is value to bind to it. Lisp also the ability code to add documentation to itself and the third argument is a docstring that adds such documentation describing the introduced variable. The surrounding *'s in the name of the variable is a convention in Common Lisp for denoting global variables.\n"
   ]
  },
  {
   "cell_type": "code",
   "execution_count": null,
   "metadata": {},
   "outputs": [],
   "source": []
  },
  {
   "cell_type": "code",
   "execution_count": null,
   "metadata": {},
   "outputs": [],
   "source": []
  }
 ],
 "metadata": {
  "kernelspec": {
   "display_name": "Common Lisp",
   "language": "common-lisp",
   "name": "common-lisp"
  },
  "language_info": {
   "codemirror_mode": "text/x-common-lisp",
   "file_extension": ".lisp",
   "mimetype": "text/x-common-lisp",
   "name": "common-lisp",
   "pygments_lexer": "common-lisp",
   "version": "2.0.1.debian"
  }
 },
 "nbformat": 4,
 "nbformat_minor": 4
}
