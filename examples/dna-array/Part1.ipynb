{
 "cells": [
  {
   "cell_type": "markdown",
   "metadata": {},
   "source": [
    "# Introduction\n",
    "This tutorial aims to show how a 8x8 array of DNA tiles based on the work of Tikhomirov et al, shown below, can be created in `small`.\n",
    "![title](tile-array.png)\n",
    "The tutorial is divided into 3 parts, each aimed at introducing some of `small`s capabilites and the key ideas behind them while laying down the code needed to create an array of DNA tiles.\n",
    "In the first part we cover the basic syntax of `common lisp` so that even those unfamilar with the language may easily follow along. Along side this we introduce the DNA model that `small` uses to represent DNA, showcase some of the API functionality for creating representations of objects made of DNA and define our own such object to represent the scaffold of one of the four triangles that a single tile in the array is made of. \n",
    "\n",
    "The next section shows how `small` allows one to build nanostructures of ever increasing size. We learn how to geometrically manipulate the triangle we created in part 1 and how to connect four such triangles to create a full tile used in the 8x8 array. We show how we can associate key-value pairs to parts of DNA structures and how we can retrieve structures based on these key-value pairs. Additionally how to create staple strands to hold the created tile together is also shown.\n",
    "\n",
    "Part 3 shows how these tiles are in turn used to create a DNA array and how staple strands can be extended to create arbitrary patterns on these arrays.\n"
   ]
  },
  {
   "cell_type": "markdown",
   "metadata": {},
   "source": [
    "## Introduction  to Common Lisp\n",
    "Those unfamiliar with Lisp might be confused by the syntax and the abundance of parenthesis. This is no reason for concern, in-fact it is what give the Lisp family of languages their incredible expressive power. Lisp code is comprised of s-expressions, which can either be lists or atoms. Lists are delimited by parentheses and can contain any number of whitespace-separated elements. Atoms are everything else, for example a number, a character or a user defined object. Code and data are represented by lists, hence the large amount of parenthesis.\n",
    "\n",
    "Code to call a function is composed of a list, with the first list entry being the function name and the next entries being its arguments. E.g.\n"
   ]
  },
  {
   "cell_type": "code",
   "execution_count": 1,
   "metadata": {},
   "outputs": [
    {
     "data": {
      "text/plain": [
       "3"
      ]
     },
     "execution_count": 1,
     "metadata": {},
     "output_type": "execute_result"
    }
   ],
   "source": [
    "(+ 1 2)"
   ]
  },
  {
   "cell_type": "markdown",
   "metadata": {},
   "source": [
    "When evaluating multiple lists the inner most lists are evaluated before the enclosing list. E.g;"
   ]
  },
  {
   "cell_type": "code",
   "execution_count": 2,
   "metadata": {},
   "outputs": [
    {
     "data": {
      "text/plain": [
       "2"
      ]
     },
     "execution_count": 2,
     "metadata": {},
     "output_type": "execute_result"
    }
   ],
   "source": [
    "(- (+ 2 3) (+ 1 2))"
   ]
  },
  {
   "cell_type": "markdown",
   "metadata": {},
   "source": [
    "\n",
    "Lists can also contain data, say for example a list of values (1 2) or all the nucleotides in a strand of DNA. If we wanted to create a list with data we cannot simply type (1 2) as Lisp will try to interpret first value in the list as the function name, resulting in an illegal function call `ERROR`."
   ]
  },
  {
   "cell_type": "code",
   "execution_count": 3,
   "metadata": {},
   "outputs": [
    {
     "ename": "COMPILED-PROGRAM-ERROR",
     "evalue": "Execution of a form compiled with errors.\nForm:\n  (1 2)\nCompile-time error:\n  illegal function call",
     "output_type": "error",
     "traceback": []
    },
    {
     "name": "stderr",
     "output_type": "stream",
     "text": [
      "; in: 1 2\n",
      ";     (1 2)\n",
      "\n",
      "; \n",
      "; caught ERROR:\n",
      ";   illegal function call\n",
      "\n",
      "; \n",
      "; compilation unit finished\n",
      ";   caught 1 ERROR condition\n",
      "Execution of a form compiled with errors.\n",
      "Form:\n",
      "  (1 2)\n",
      "Compile-time error:\n",
      "  illegal function call\n",
      "   [Condition of type SB-INT:COMPILED-PROGRAM-ERROR]\n",
      "\n",
      "#<ENVIRONMENT {100313B4C3}>\n",
      "   [Environment of thread #<THREAD \"SHELL Thread\" RUNNING {1004D147C3}>]\n",
      "\n",
      "\n",
      "Backtrace:\n",
      " 5: (SB-KERNEL::%SIGNAL Execution of a form compiled with errors.\n",
      "Form:\n",
      "  (1 2)\n",
      "Compile-time error:\n",
      "  illegal function call)\n",
      " 6: (ERROR COMPILED-PROGRAM-ERROR MESSAGE illegal function call SOURCE (1 2))\n",
      " 7: ((LAMBDA NIL))\n",
      " 8: (SB-INT:SIMPLE-EVAL-IN-LEXENV (1 2) #<NULL-LEXENV>)\n",
      " 9: (EVAL (1 2))\n",
      " 10: (COMMON-LISP-JUPYTER::MY-EVAL (1 2))\n",
      " 11: ((:METHOD JUPYTER:EVALUATE-CODE (COMMON-LISP-JUPYTER:KERNEL T)) #<unused argument> (1 2)\n",
      ")\n",
      " 12: (JUPYTER::HANDLE-EXECUTE-REQUEST #<KERNEL {10039D0FB3}> #<MESSAGE {1002E81293}>)\n",
      " 13: (JUPYTER::HANDLE-SHELL-MESSAGE #<KERNEL {10039D0FB3}> #<MESSAGE {1002E81293}>)\n",
      " 14: (JUPYTER::RUN-SHELL #<KERNEL {10039D0FB3}>)\n",
      " 15: ((LAMBDA NIL :IN BORDEAUX-THREADS::BINDING-DEFAULT-SPECIALS))\n",
      " 16: ((FLET SB-UNIX::BODY :IN SB-THREAD::NEW-LISP-THREAD-TRAMPOLINE))\n",
      " 17: ((FLET \"WITHOUT-INTERRUPTS-BODY-4\" :IN SB-THREAD::NEW-LISP-THREAD-TRAMPOLINE))\n",
      " 18: ((FLET SB-THREAD::WITH-MUTEX-THUNK :IN SB-THREAD::NEW-LISP-THREAD-TRAMPOLINE))\n",
      " 19: ((FLET \"WITHOUT-INTERRUPTS-BODY-1\" :IN SB-THREAD::CALL-WITH-MUTEX))\n",
      " 20: (SB-THREAD::CALL-WITH-MUTEX #<CLOSURE (FLET SB-THREAD::WITH-MUTEX-THUNK :IN SB-THREAD::NEW-LISP-THREAD-TRAMPOLINE) {7F0E15CA6D7B}> #<MUTEX \"thread result lock\" owner: #<SB-THREAD:THREAD \"SHELL Thread\" RUNNING {1004D147C3}>> NIL T NIL)\n",
      " 21: (SB-THREAD::NEW-LISP-THREAD-TRAMPOLINE #<THREAD \"SHELL Thread\" RUNNING {1004D147C3}> NIL #<CLOSURE (LAMBDA NIL :IN BORDEAUX-THREADS::BINDING-DEFAULT-SPECIALS) {1004D1476B}> NIL)\n",
      " 22: (\"foreign function: call_into_lisp\")\n",
      " 23: (\"foreign function: new_thread_trampoline\")"
     ]
    }
   ],
   "source": [
    "(1 2)\n"
   ]
  },
  {
   "cell_type": "markdown",
   "metadata": {},
   "source": [
    "To get around this we can use the `quote` function. It takes one argument and returns exactly that argument, without evaluating anything in it or trying to interpret first list entry as a function name."
   ]
  },
  {
   "cell_type": "code",
   "execution_count": 5,
   "metadata": {},
   "outputs": [
    {
     "data": {
      "text/plain": [
       "(+ 1 2)"
      ]
     },
     "execution_count": 5,
     "metadata": {},
     "output_type": "execute_result"
    }
   ],
   "source": [
    "(quote (+ 1 2))"
   ]
  },
  {
   "cell_type": "code",
   "execution_count": 6,
   "metadata": {},
   "outputs": [
    {
     "data": {
      "text/plain": [
       "(:I (+ 1 2) (+ 2 3))"
      ]
     },
     "execution_count": 6,
     "metadata": {},
     "output_type": "execute_result"
    }
   ],
   "source": [
    "(quote (:i (+ 1 2) (+ 2 3)))"
   ]
  },
  {
   "cell_type": "markdown",
   "metadata": {},
   "source": [
    "Since lists are so prolific in Lisp the syntax has a lot of syntactic sugar to deal with their manipulation. For example instead or writing quote we can just write ' before the argument we normally pass to quote."
   ]
  },
  {
   "cell_type": "code",
   "execution_count": 7,
   "metadata": {},
   "outputs": [
    {
     "data": {
      "text/plain": [
       "(:I (+ 1 2) (+ 2 3))"
      ]
     },
     "execution_count": 7,
     "metadata": {},
     "output_type": "execute_result"
    }
   ],
   "source": [
    "'(:i (+ 1 2) (+ 2 3))"
   ]
  },
  {
   "cell_type": "markdown",
   "metadata": {},
   "source": [
    "Notice how the lists containing the `+` are not evaluated. If we did want it to be evaluated we could use the function `list` which takes n arguments, evaluates them and returns the values results from evaluating them in a list of length n.\n"
   ]
  },
  {
   "cell_type": "code",
   "execution_count": 8,
   "metadata": {},
   "outputs": [
    {
     "data": {
      "text/plain": [
       "(:I 3 5 10 \"DNA nanotechnology is fun!\")"
      ]
     },
     "execution_count": 8,
     "metadata": {},
     "output_type": "execute_result"
    }
   ],
   "source": [
    "(list :i (+ 1 2) (+ 2 3) 10 \"DNA nanotechnology is fun!\")"
   ]
  },
  {
   "cell_type": "markdown",
   "metadata": {},
   "source": [
    "Another syntactic sugar that we use is backquote, `` ```. We need to understand its use if we want to understand create-staple and find-obj-with-props. Just like the syntactic sugar for quote, `'`, in fact using it in place of quote yields the same result.\n"
   ]
  },
  {
   "cell_type": "code",
   "execution_count": 12,
   "metadata": {},
   "outputs": [
    {
     "data": {
      "text/plain": [
       "((+ 1 2) (+ 2 3))"
      ]
     },
     "execution_count": 12,
     "metadata": {},
     "output_type": "execute_result"
    }
   ],
   "source": [
    "`((+ 1 2) (+ 2 3))"
   ]
  },
  {
   "cell_type": "markdown",
   "metadata": {},
   "source": [
    "Where its behavior of `` ` `` is different to that of `'` is when an s-expression in the list is preceded by a `,`. When this happens the expression is evaluated and placed in the resulting list, e.g."
   ]
  },
  {
   "cell_type": "code",
   "execution_count": 13,
   "metadata": {},
   "outputs": [
    {
     "data": {
      "text/plain": [
       "((+ 1 2) 5)"
      ]
     },
     "execution_count": 13,
     "metadata": {},
     "output_type": "execute_result"
    }
   ],
   "source": [
    "`((+ 1 2) ,(+ 2 3))"
   ]
  },
  {
   "cell_type": "markdown",
   "metadata": {},
   "source": [
    "# Introduction to `small`\n",
    "\n",
    "First we need to tell Common Lisp that we to use of the `small` package to gain access to its functionality it provides. First we load the package using [quicklisp](https://www.quicklisp.org/beta/).\n"
   ]
  },
  {
   "cell_type": "code",
   "execution_count": 15,
   "metadata": {},
   "outputs": [
    {
     "name": "stdout",
     "output_type": "stream",
     "text": [
      "To load \"small\":\n",
      "  Load 1 ASDF system:\n",
      "    small\n",
      "\n",
      "; Loading \"small\"\n",
      "..."
     ]
    },
    {
     "data": {
      "text/plain": [
       "(:SMALL)"
      ]
     },
     "execution_count": 15,
     "metadata": {},
     "output_type": "execute_result"
    },
    {
     "name": "stdout",
     "output_type": "stream",
     "text": [
      "\n"
     ]
    }
   ],
   "source": [
    "(ql:quickload :small)\n"
   ]
  },
  {
   "cell_type": "code",
   "execution_count": null,
   "metadata": {},
   "outputs": [],
   "source": [
    "N"
   ]
  },
  {
   "cell_type": "code",
   "execution_count": 16,
   "metadata": {},
   "outputs": [
    {
     "data": {
      "text/plain": [
       "#<PACKAGE \"SMALL\">"
      ]
     },
     "execution_count": 16,
     "metadata": {},
     "output_type": "execute_result"
    }
   ],
   "source": [
    "(in-package :small)"
   ]
  },
  {
   "cell_type": "markdown",
   "metadata": {},
   "source": [
    "## Creating constants\n",
    "In this section we  introduce the constants defined in [Tikhomirov et al](https://doi.org/10.1038/nnano.2016.256) that implement the geometric model of DNA Square (below) that they use.\n",
    "![DNA Tile](greg-tile.png)\n",
    "\n",
    "See [pages 7-11 of the supplementary information](https://static-content.springer.com/esm/art%3A10.1038%2Fnnano.2016.256/MediaObjects/41565_2017_BFnnano2016256_MOESM28_ESM.pdf) for information on the geometric model. For convenience we repeat the definition of the constants;\n",
    "\n",
    "![title](consts.png)\n",
    "\n",
    "\n",
    "To do so we use the [`defparameter` function](http://clhs.lisp.se/Body/m_defpar.htm), which binds a value to a variable. The list items that follow are the arguments to the function. In this case the fist argument is the variable name and the second argument is value to bind to it. Lisp also the ability code to add documentation to itself and the third argument is a docstring that adds such documentation describing the introduced variable. The surrounding *'s in the name of the variable is a convention in Common Lisp for denoting global variables.\n",
    "\n",
    "Lets define the constants;\n"
   ]
  },
  {
   "cell_type": "code",
   "execution_count": 17,
   "metadata": {},
   "outputs": [
    {
     "data": {
      "text/plain": [
       "*I1*"
      ]
     },
     "execution_count": 17,
     "metadata": {},
     "output_type": "execute_result"
    },
    {
     "data": {
      "text/plain": [
       "*R*"
      ]
     },
     "execution_count": 17,
     "metadata": {},
     "output_type": "execute_result"
    },
    {
     "data": {
      "text/plain": [
       "*2R*"
      ]
     },
     "execution_count": 17,
     "metadata": {},
     "output_type": "execute_result"
    },
    {
     "data": {
      "text/plain": [
       "*G*"
      ]
     },
     "execution_count": 17,
     "metadata": {},
     "output_type": "execute_result"
    },
    {
     "data": {
      "text/plain": [
       "*W*"
      ]
     },
     "execution_count": 17,
     "metadata": {},
     "output_type": "execute_result"
    }
   ],
   "source": [
    "(defparameter *i1*  11.3d0\n",
    "  \"The length of the shortest double helix in the square DNA tile in nanometers\")\n",
    "     \n",
    "(defparameter *r*  11\n",
    "  \"the total number of rows with increasing length in each of the four isosceles right triangles composing the square DNA tile\")\n",
    "\n",
    "(defparameter *2r*  (* 2 *r*)\n",
    "  \"The total number of rows in each of the four isosceles right triangles composing the square DNA tile\")\n",
    "\n",
    "(defparameter *g* 1.42d0 \"Distance between the center of the square to the central vertex of each of the four triangles in nanometers\")\n",
    "\n",
    "\n",
    "(defparameter *w* (+ (* 2 (+ *i1* *g*))\n",
    "\t\t     (* (+ *helix-diameter* *helix-spacing*)\n",
    "\t\t\t(- (* 2 *r*)\n",
    "\t\t\t   1)))\n",
    "  \"The length of the side of the square DNA tile in nanometers\")"
   ]
  },
  {
   "cell_type": "markdown",
   "metadata": {},
   "source": [
    "We see that the variables have been correctly introduced."
   ]
  },
  {
   "cell_type": "code",
   "execution_count": 18,
   "metadata": {},
   "outputs": [
    {
     "data": {
      "text/plain": [
       "88.44d0"
      ]
     },
     "execution_count": 18,
     "metadata": {},
     "output_type": "execute_result"
    }
   ],
   "source": [
    "*w*"
   ]
  },
  {
   "cell_type": "markdown",
   "metadata": {},
   "source": [
    "## Calculating Number of Base Pairs Per Helix\n",
    "Next we define the `ai` function (from the extract of the supplementary info above) that calculates the number of base pairs in each row of the double helix. To define a function we use the [defun](http://clhs.lisp.se/Body/m_defun.htm) function. which as its first argument takes the function name, then a list of variable that the function accepts (in this case only the row number `i`) followed by an optional documentation string and the body of the function.\n"
   ]
  },
  {
   "cell_type": "code",
   "execution_count": 20,
   "metadata": {},
   "outputs": [
    {
     "data": {
      "text/plain": [
       "AI"
      ]
     },
     "execution_count": 20,
     "metadata": {},
     "output_type": "execute_result"
    },
    {
     "name": "stdout",
     "output_type": "stream",
     "text": [
      "[SB-KERNEL:REDEFINITION-WITH-DEFUN] redefining SMALL::AI in DEFUN\n"
     ]
    }
   ],
   "source": [
    "(defun ai (i)\n",
    "  \"Calculate the number of base pairs in the i-th of the a DNA triangle that makes up the DNA square\"\n",
    "  (if (or (> i *2r*) (< i 0))\n",
    "      (error \"~a is an invalid index for ai calculation. valid indices: [1, ~a]\" i *2r*)\n",
    "      (if (<= i *r*)\n",
    "\t  (round (/ (+ *i1*\n",
    "\t\t       (* (+ *helix-diameter* *helix-spacing*)\n",
    "\t\t\t  (- i 1)))\n",
    "\t\t    *helix-nt-spacing*))\n",
    "\t  (ai (+ *2r* 1 (- i))))))"
   ]
  },
  {
   "cell_type": "markdown",
   "metadata": {},
   "source": [
    "Notice how we use the global variables `*helix-diameter*` `*helix-spacing*` and `*helix-nt-spacing*`. These are variable provided by `small` (see the [dna.lisp](https://github.com/DurhamSmith/small/blob/master/dna.lisp) file) that defines common parameters of DNA.\n",
    "\n",
    "Also since we added a docstring to the function we are able to retrieve this (and other) information about the function using the `describe` function.\n"
   ]
  },
  {
   "cell_type": "code",
   "execution_count": 21,
   "metadata": {},
   "outputs": [
    {
     "name": "stdout",
     "output_type": "stream",
     "text": [
      "\n",
      "#<FUNCTION AI>\n",
      "  [compiled function]\n",
      "\n",
      "\n",
      "Lambda-list: (I)\n",
      "Derived type: (FUNCTION (T) *)\n",
      "Documentation:\n",
      "  Calculate the number of base pairs in the i-th of the a DNA triangle that makes up the DNA square\n",
      "Source form:\n",
      "  (LAMBDA (I)\n",
      "    \"Calculate the number of base pairs in the i-th of the a DNA triangle that makes up the DNA square\"\n",
      "    (BLOCK AI\n",
      "      (IF (OR (> I *2R*) (< I 0))\n",
      "          (ERROR\n",
      "           \"~a is an invalid index for ai calculation. valid indices: [1, ~a]\"\n",
      "           I *2R*)\n",
      "          (IF (<= I *R*)\n",
      "              (ROUND\n",
      "               (/\n",
      "                (+ *I1*\n",
      "                   (* (+ *HELIX-DIAMETER* *HELIX-SPACING*) (- I 1)))\n",
      "                *HELIX-NT-SPACING*))\n",
      "              (AI (+ *2R* 1 (- I)))))))\n"
     ]
    }
   ],
   "source": [
    "(describe #'ai)"
   ]
  },
  {
   "cell_type": "markdown",
   "metadata": {},
   "source": [
    "If we only wanted the documentation can use the `documentation` function."
   ]
  },
  {
   "cell_type": "code",
   "execution_count": 23,
   "metadata": {},
   "outputs": [
    {
     "data": {
      "text/plain": [
       "\"Calculate the number of base pairs in the i-th of the a DNA triangle that makes up the DNA square\""
      ]
     },
     "execution_count": 23,
     "metadata": {},
     "output_type": "execute_result"
    }
   ],
   "source": [
    "(documentation #'ai t)"
   ]
  },
  {
   "cell_type": "markdown",
   "metadata": {},
   "source": [
    "Notice since we wanted information on a function we use the `#'` syntax, this means we want the information on the function contained in the symbol named `ai`. Had we not used this we would have run into an error since we would try to retrieve information on the variable (not the function).\n"
   ]
  },
  {
   "cell_type": "code",
   "execution_count": 24,
   "metadata": {},
   "outputs": [
    {
     "ename": "UNBOUND-VARIABLE",
     "evalue": "The variable AI is unbound.",
     "output_type": "error",
     "traceback": []
    },
    {
     "name": "stderr",
     "output_type": "stream",
     "text": [
      "The variable AI is unbound.\n",
      "   [Condition of type UNBOUND-VARIABLE]\n",
      "\n",
      "#<ENVIRONMENT {1006C20ED3}>\n",
      "   [Environment of thread #<THREAD \"SHELL Thread\" RUNNING {1004D147C3}>]\n",
      "\n",
      "\n",
      "Backtrace:\n",
      " 5: (SB-KERNEL::%SIGNAL The variable AI is unbound.)\n",
      " 6: (ERROR The variable AI is unbound.)\n",
      " 7: (SB-KERNEL:WITH-SIMPLE-CONDITION-RESTARTS ERROR NIL The variable AI is unbound.)\n",
      " 8: ((LABELS SB-KERNEL::TRY :IN SB-KERNEL::RESTART-UNBOUND) The variable AI is unbound.)\n",
      " 9: (SB-KERNEL::RESTART-UNBOUND AI The variable AI is unbound. -20151)\n",
      " 10: (SB-KERNEL:INTERNAL-ERROR #.(SB-SYS:INT-SAP #X7F0E15CA5A40) #<unused argument>)\n",
      " 11: (\"foreign function: call_into_lisp\")\n",
      " 12: (\"foreign function: funcall2\")\n",
      " 13: (\"foreign function: interrupt_internal_error\")\n",
      " 14: (\"foreign function: handle_trap\")\n",
      " 15: (\"foreign function: #x418812\")\n",
      " 16: (SB-INT:SIMPLE-EVAL-IN-LEXENV AI #<NULL-LEXENV>)\n",
      " 17: (SB-INT:SIMPLE-EVAL-IN-LEXENV (DESCRIBE AI) #<NULL-LEXENV>)\n",
      " 18: (EVAL (DESCRIBE AI))\n",
      " 19: (COMMON-LISP-JUPYTER::MY-EVAL (DESCRIBE AI))\n",
      " 20: ((:METHOD JUPYTER:EVALUATE-CODE (COMMON-LISP-JUPYTER:KERNEL T)) #<unused argument> (describe ai)\n",
      ")\n",
      " 21: (JUPYTER::HANDLE-EXECUTE-REQUEST #<KERNEL {10039D0FB3}> #<MESSAGE {1006C09543}>)\n",
      " 22: (JUPYTER::HANDLE-SHELL-MESSAGE #<KERNEL {10039D0FB3}> #<MESSAGE {1006C09543}>)\n",
      " 23: (JUPYTER::RUN-SHELL #<KERNEL {10039D0FB3}>)\n",
      " 24: ((LAMBDA NIL :IN BORDEAUX-THREADS::BINDING-DEFAULT-SPECIALS))\n",
      " 25: ((FLET SB-UNIX::BODY :IN SB-THREAD::NEW-LISP-THREAD-TRAMPOLINE))\n",
      " 26: ((FLET \"WITHOUT-INTERRUPTS-BODY-4\" :IN SB-THREAD::NEW-LISP-THREAD-TRAMPOLINE))\n",
      " 27: ((FLET SB-THREAD::WITH-MUTEX-THUNK :IN SB-THREAD::NEW-LISP-THREAD-TRAMPOLINE))\n",
      " 28: ((FLET \"WITHOUT-INTERRUPTS-BODY-1\" :IN SB-THREAD::CALL-WITH-MUTEX))\n",
      " 29: (SB-THREAD::CALL-WITH-MUTEX #<CLOSURE (FLET SB-THREAD::WITH-MUTEX-THUNK :IN SB-THREAD::NEW-LISP-THREAD-TRAMPOLINE) {7F0E15CA6D7B}> #<MUTEX \"thread result lock\" owner: #<SB-THREAD:THREAD \"SHELL Thread\" RUNNING {1004D147C3}>> NIL T NIL)\n",
      " 30: (SB-THREAD::NEW-LISP-THREAD-TRAMPOLINE #<THREAD \"SHELL Thread\" RUNNING {1004D147C3}> NIL #<CLOSURE (LAMBDA NIL :IN BORDEAUX-THREADS::BINDING-DEFAULT-SPECIALS) {1004D1476B}> NIL)\n",
      " 31: (\"foreign function: call_into_lisp\")\n",
      " 32: (\"foreign function: new_thread_trampoline\")"
     ]
    }
   ],
   "source": [
    "(describe ai)\n"
   ]
  },
  {
   "cell_type": "markdown",
   "metadata": {},
   "source": [
    "`small` is fully documented and the documentation can be viewed at anytime using `describe` and `documentation` or viewed using a browser at the official documentation page."
   ]
  },
  {
   "cell_type": "markdown",
   "metadata": {},
   "source": [
    "## Functions for Helix Axis Coordinates\n",
    "Next we will define functions that calculate the coordinates of the helix axis for nucleotide number `j` in helix `i` of the DNA triangle composing the square.\n",
    "\n",
    "These are defined on page 8 of the supplementary information but are also given in the figure below. Notice that in the paper coordinate system is not defined in conventional Cartesian coordinate system. As such we translate the coords in the paper to a normal Cartesian coordinate system by reflecting the y-values around the origin. Although this does not matter for the coordinates for the helices axis since these are defined to be in the y=0 plane.\n",
    "\n",
    "![Scaffold Helix Coords Calculation](scaf-hel-calcs.png)\n",
    "\n",
    "We define functions to calculate the `x`,`y` and `z` coordinates of the helix axis and a function that then uses these to return a vector with these coordinates. \n"
   ]
  },
  {
   "cell_type": "code",
   "execution_count": 26,
   "metadata": {},
   "outputs": [
    {
     "data": {
      "text/plain": [
       "TRI-AX-X"
      ]
     },
     "execution_count": 26,
     "metadata": {},
     "output_type": "execute_result"
    },
    {
     "data": {
      "text/plain": [
       "TRI-AX-Y"
      ]
     },
     "execution_count": 26,
     "metadata": {},
     "output_type": "execute_result"
    },
    {
     "data": {
      "text/plain": [
       "TRI-AX-Z"
      ]
     },
     "execution_count": 26,
     "metadata": {},
     "output_type": "execute_result"
    },
    {
     "data": {
      "text/plain": [
       "TRI-AX-COORDS"
      ]
     },
     "execution_count": 26,
     "metadata": {},
     "output_type": "execute_result"
    }
   ],
   "source": [
    "(defun tri-ax-x (i)\n",
    "  \"Calculate the x coordinate of the helix axis of the ith helix in the first triangle that makes the DNA square\"\n",
    "  (float (+ (- (/ *w* 2))\n",
    "\t    *i1*\n",
    "\t    *g*\n",
    "\t    (* (+ *helix-diameter* *helix-spacing*)\n",
    "\t       (- i 1)))))\n",
    "\n",
    "\n",
    "(defun tri-ax-y ()\n",
    "  \"Calculate the y coordinate of the helix axis of the helices in the first triangle that makes the DNA square\"\n",
    "  0d0)\n",
    "\n",
    "(defun tri-ax-z (j)\n",
    "  \"Calculate the z coordinate of the helix axis of the jth base pair in the first triangle that makes the DNA square.\"\n",
    "    (float (+ (- (/ *w* 2))\n",
    "\t      (* *helix-nt-spacing* j))))\n",
    "\n",
    "\n",
    "\n",
    "(defun tri-ax-coords (i j)\n",
    "  \"The coordinate location of the helix axis of the j th base pair in the i th row in the first triangle: C1,i,j =(cx, cy, cz)\"\n",
    "  (v3\n",
    "   (tri-ax-x i)\n",
    "   (tri-ax-y)\n",
    "   (tri-ax-z j)))\n"
   ]
  },
  {
   "cell_type": "markdown",
   "metadata": {},
   "source": [
    "The `tri-ax-coords` function gives the coordinates of the helix axis for the j-th base pair in the i-th row of the triangle. We have used the `v3` function to creates a 3 dimensional vector. `small` provides many functions for operating on vectors and accessing their elements, these can be seen in the [linear-algebra.lisp file](https://github.com/DurhamSmith/small/blob/master/linear-algebra.lisp).\n",
    "\n",
    "We see that everything works as expected;"
   ]
  },
  {
   "cell_type": "code",
   "execution_count": 27,
   "metadata": {},
   "outputs": [
    {
     "data": {
      "text/plain": [
       "#<MATRIX/DOUBLE-FLOAT (3x1):\n",
       "  -31.500\n",
       "   0.000\n",
       "  -43.880>"
      ]
     },
     "execution_count": 27,
     "metadata": {},
     "output_type": "execute_result"
    }
   ],
   "source": [
    "(tri-ax-coords 1 1)"
   ]
  },
  {
   "cell_type": "markdown",
   "metadata": {},
   "source": [
    "## Coordinates Where Scaffold Base Joins Backbone.\n",
    " Next we define functions to calculate The coordinate location of where the scaffold base joins the helix backbone. Below are the instructions for doing so (page p8 of supplementary info).\n",
    "\n",
    "![Scaffold Base Coords Calculation](scaf-base.png)\n",
    "\n",
    "First we need to calculate the angle that scaffold base makes with the helix's axis. \n"
   ]
  },
  {
   "cell_type": "markdown",
   "metadata": {},
   "source": [
    "\n",
    "In defining `theta-1ij` we have used keyword arguments. We did this allows us to specify the values we want to use for angular offsets for even and odd rows of helices. Although in this case we could have hard-coded the even and off offsets but we wanted show off the keyword argument.  Following the paper we use 0 when i in odd, and 180 (pi radians) when i is even, when we call `theta-1ij` from `theta-1ij-scaffold` passing `:odd-offset` and `:even-offset` to specify their values. Had we not provided the keyword and argument the default value of `0` would be used as they were the default value we specified when defining `theta-1ij`  (i.e `(defun theta-1ij (i j &key (odd-offset 0) (even-offset 0))`).\n",
    "\n",
    "We have also used the [`let*` function](http://www.lispworks.com/documentation/HyperSpec/Body/s_let_l.htm). This function is used to introduce local variable. It's first argument is a list of list, where the form of each of the sub-lists is of the form `(variable-name expression-to-evaluate-for-value)`. For example in the first of these forms in `theta-1ij` we bind the variable `rotation` to the result of evaluating `(mod (* (- j 1) *rad/bp*) (* 2 pi)))` (where `*rad/bp*` in constant defining the amount of radians per base pair in a double helix and is defined in [dna.lisp](https://github.com/DurhamSmith/small/blob/master/dna.lisp)).\n",
    "\n",
    "Lets check that everything works (remembering the returned value will be in radians)."
   ]
  },
  {
   "cell_type": "code",
   "execution_count": 29,
   "metadata": {},
   "outputs": [
    {
     "data": {
      "text/plain": [
       "0.6018376731014929d0"
      ]
     },
     "execution_count": 29,
     "metadata": {},
     "output_type": "execute_result"
    }
   ],
   "source": [
    "(theta-1ij-scaffold 1 2)"
   ]
  },
  {
   "cell_type": "markdown",
   "metadata": {},
   "source": [
    "`small` also provides functions to convert from degrees to radians (and vice versa)."
   ]
  },
  {
   "cell_type": "code",
   "execution_count": 30,
   "metadata": {},
   "outputs": [
    {
     "ename": "UNDEFINED-FUNCTION",
     "evalue": "The function SMALL::RAD->DEG is undefined.",
     "output_type": "error",
     "traceback": []
    },
    {
     "name": "stdout",
     "output_type": "stream",
     "text": [
      "[SB-INT:SIMPLE-STYLE-WARNING] undefined function: SMALL::RAD->DEG\n"
     ]
    },
    {
     "name": "stderr",
     "output_type": "stream",
     "text": [
      "The function SMALL::RAD->DEG is undefined.\n",
      "   [Condition of type UNDEFINED-FUNCTION]\n",
      "\n",
      "#<ENVIRONMENT {100206F4F3}>\n",
      "   [Environment of thread #<THREAD \"SHELL Thread\" RUNNING {1004D147C3}>]\n",
      "\n",
      "\n",
      "Backtrace:\n",
      " 5: (SB-KERNEL::%SIGNAL The function SMALL::RAD->DEG is undefined.)\n",
      " 6: (ERROR The function SMALL::RAD->DEG is undefined.)\n",
      " 7: (SB-KERNEL:WITH-SIMPLE-CONDITION-RESTARTS ERROR NIL The function SMALL::RAD->DEG is undefined.)\n",
      " 8: ((LABELS SB-KERNEL::TRY :IN SB-KERNEL::RESTART-UNDEFINED) The function SMALL::RAD->DEG is undefined. NIL)\n",
      " 9: (SB-KERNEL:INTERNAL-ERROR #.(SB-SYS:INT-SAP #X7F0E15CA5B00) #<unused argument>)\n",
      " 10: (\"foreign function: call_into_lisp\")\n",
      " 11: (\"foreign function: funcall2\")\n",
      " 12: (\"foreign function: interrupt_internal_error\")\n",
      " 13: (\"foreign function: handle_trap\")\n",
      " 14: (\"foreign function: #x418812\")\n",
      " 15: (\"undefined function\" 0.6018376731014929d0)\n",
      " 16: (SB-INT:SIMPLE-EVAL-IN-LEXENV (RAD->DEG (THETA-1IJ-SCAFFOLD 1 2)) #<NULL-LEXENV>)\n",
      " 17: (EVAL (RAD->DEG (THETA-1IJ-SCAFFOLD 1 2)))\n",
      " 18: (COMMON-LISP-JUPYTER::MY-EVAL (RAD->DEG (THETA-1IJ-SCAFFOLD 1 2)))\n",
      " 19: ((:METHOD JUPYTER:EVALUATE-CODE (COMMON-LISP-JUPYTER:KERNEL T)) #<unused argument> (rad->deg (theta-1ij-scaffold 1 2)))\n",
      " 20: (JUPYTER::HANDLE-EXECUTE-REQUEST #<KERNEL {10039D0FB3}> #<MESSAGE {1002045F33}>)\n",
      " 21: (JUPYTER::HANDLE-SHELL-MESSAGE #<KERNEL {10039D0FB3}> #<MESSAGE {1002045F33}>)\n",
      " 22: (JUPYTER::RUN-SHELL #<KERNEL {10039D0FB3}>)\n",
      " 23: ((LAMBDA NIL :IN BORDEAUX-THREADS::BINDING-DEFAULT-SPECIALS))\n",
      " 24: ((FLET SB-UNIX::BODY :IN SB-THREAD::NEW-LISP-THREAD-TRAMPOLINE))\n",
      " 25: ((FLET \"WITHOUT-INTERRUPTS-BODY-4\" :IN SB-THREAD::NEW-LISP-THREAD-TRAMPOLINE))\n",
      " 26: ((FLET SB-THREAD::WITH-MUTEX-THUNK :IN SB-THREAD::NEW-LISP-THREAD-TRAMPOLINE))\n",
      " 27: ((FLET \"WITHOUT-INTERRUPTS-BODY-1\" :IN SB-THREAD::CALL-WITH-MUTEX))\n",
      " 28: (SB-THREAD::CALL-WITH-MUTEX #<CLOSURE (FLET SB-THREAD::WITH-MUTEX-THUNK :IN SB-THREAD::NEW-LISP-THREAD-TRAMPOLINE) {7F0E15CA6D7B}> #<MUTEX \"thread result lock\" owner: #<SB-THREAD:THREAD \"SHELL Thread\" RUNNING {1004D147C3}>> NIL T NIL)\n",
      " 29: (SB-THREAD::NEW-LISP-THREAD-TRAMPOLINE #<THREAD \"SHELL Thread\" RUNNING {1004D147C3}> NIL #<CLOSURE (LAMBDA NIL :IN BORDEAUX-THREADS::BINDING-DEFAULT-SPECIALS) {1004D1476B}> NIL)\n",
      " 30: (\"foreign function: call_into_lisp\")\n",
      " 31: (\"foreign function: new_thread_trampoline\")"
     ]
    }
   ],
   "source": [
    "(rad->deg (theta-1ij-scaffold 1 2))"
   ]
  },
  {
   "cell_type": "markdown",
   "metadata": {},
   "source": [
    "Next implement a function to retrieve the coordinates of the scaffold base. "
   ]
  },
  {
   "cell_type": "code",
   "execution_count": 31,
   "metadata": {},
   "outputs": [
    {
     "data": {
      "text/plain": [
       "TRI-SCAF-COORDS"
      ]
     },
     "execution_count": 31,
     "metadata": {},
     "output_type": "execute_result"
    }
   ],
   "source": [
    "(defun tri-scaf-coords (i j &key cm)\n",
    "  \"The coordinate location of where the scaffold base joins the backbone in the two-dimensional plane of the j th base pair in the i th row in the first triangle\"\n",
    "  (let* ((helix-axis (tri-ax-coords i j))\n",
    "\t (theta (theta-1ij-scaffold i j))\n",
    "\t (cyl-vec (if cm\n",
    "\t\t      (v3 *helix-cm-offset* theta 0) ;; adjustment helix cm.\n",
    "\t\t      (v3 *helix-radius* theta 0)))     ; helix rad/bb cord = 1nm\n",
    "\t (cart-cyl (cylindrical->cartesian cyl-vec))\n",
    "\t (coords (.+ helix-axis cart-cyl)))\n",
    "    coords))"
   ]
  },
  {
   "cell_type": "markdown",
   "metadata": {},
   "source": [
    "Here we have again used a keyword argument, `cm`. If `cm` is `t` then the returned coordinates will be of the  center of mass of the nucleotide, which is `*helix-cm-offset* = 0.6nm` from the helix's axis. If `cm` is `nil` then the returned coordinates will be given at `*helix-radius* = 1nm` from the helix axis. The `cylindrical->cartesian` function is another function provided by `small` and can be seen in the [linear-algebra.lisp file](https://github.com/DurhamSmith/small/blob/master/linear-algebra.lisp).\n",
    "\n",
    "Lets check that `tri-scaf-coords` works as expected;"
   ]
  },
  {
   "cell_type": "code",
   "execution_count": null,
   "metadata": {},
   "outputs": [],
   "source": []
  }
 ],
 "metadata": {
  "kernelspec": {
   "display_name": "Common Lisp",
   "language": "common-lisp",
   "name": "common-lisp"
  },
  "language_info": {
   "codemirror_mode": "text/x-common-lisp",
   "file_extension": ".lisp",
   "mimetype": "text/x-common-lisp",
   "name": "common-lisp",
   "pygments_lexer": "common-lisp",
   "version": "2.0.1.debian"
  }
 },
 "nbformat": 4,
 "nbformat_minor": 4
}
