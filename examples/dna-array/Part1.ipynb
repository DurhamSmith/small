{
 "cells": [
  {
   "cell_type": "markdown",
   "metadata": {},
   "source": [
    "# Introduction\n",
    "This tutorial aims to show how a 16x16 array of DNA tiles based on the work of Tikhomirov et al can be created in `small`.![title](greg-tile.png)\n",
    "It is divided into 3 parts, each aimed at introducing some of `small`s capabilites and the key ideas behind them while laying down the codebase to create an array of DNA tiles.\n",
    "In the first part we cover the basic syntax of `common lisp` so that even those unfamilar with the language may easily follow along. Along side this we introduce the DNA model that `small` uses to represent DNA and showcase some of the API functionality for creating objects to represent DNA and build our own such object to represent the scaffold of one of the four triangles used in \n",
    "\n",
    "The next section shows how `small` allows one to build nanostructures of ever increasing size. We learn how to geometrically manipulate the triangle we created in part 1 and how we can four such triangles to create a full tile used in the 16x16array. We show how we associate key value pairs to parts of DNA structures and how we can retrieve structures based on these key-value pairs. How to create staple strands to hold the created tile together is also shown.\n",
    "\n",
    "Part 3 shows how these tiles are in turn used to create a DNA array and how staple strands can be extended to create arbitrary patterns on these arrays.\n",
    "\n",
    "First we need to specify that we want to be in the small package to  gain access to its functionality\n"
   ]
  },
  {
   "cell_type": "markdown",
   "metadata": {},
   "source": [
    "## Introduction  to Common Lisp\n"
   ]
  },
  {
   "cell_type": "code",
   "execution_count": 8,
   "metadata": {},
   "outputs": [
    {
     "name": "stdout",
     "output_type": "stream",
     "text": [
      "To load \"small\":\n",
      "  Load 1 ASDF system:\n",
      "    small\n",
      "\n",
      "; Loading \"small\"\n",
      "............."
     ]
    },
    {
     "data": {
      "text/plain": [
       "(:SMALL)"
      ]
     },
     "execution_count": 8,
     "metadata": {},
     "output_type": "execute_result"
    },
    {
     "name": "stdout",
     "output_type": "stream",
     "text": [
      "\n"
     ]
    }
   ],
   "source": [
    "(ql:quickload :small)"
   ]
  },
  {
   "cell_type": "code",
   "execution_count": null,
   "metadata": {},
   "outputs": [],
   "source": []
  },
  {
   "cell_type": "code",
   "execution_count": null,
   "metadata": {},
   "outputs": [],
   "source": []
  },
  {
   "cell_type": "code",
   "execution_count": 3,
   "metadata": {},
   "outputs": [
    {
     "data": {
      "text/plain": [
       "#<PACKAGE \"SMALL\">"
      ]
     },
     "execution_count": 3,
     "metadata": {},
     "output_type": "execute_result"
    }
   ],
   "source": [
    "(in-package :small)"
   ]
  },
  {
   "cell_type": "code",
   "execution_count": 4,
   "metadata": {},
   "outputs": [
    {
     "name": "stdout",
     "output_type": "stream",
     "text": [
      "\n",
      "SMALL:DNA\n",
      "  [symbol]\n",
      "\n",
      "DNA names the standard-class #<STANDARD-CLASS SMALL:DNA>:\n",
      "  Documentation:\n",
      "    A class for DNA chem-objs. Defines constants and connect methods\n",
      "  Direct superclasses: CHEM-OBJ\n",
      "  Direct subclasses: DNA-ORIGAMI, DNA-STRAND, DNA-NT\n",
      "  Not yet finalized.\n",
      "  Direct slots:\n",
      "    PREV\n",
      "      Initargs: :PREV\n",
      "      Readers: PREV\n",
      "      Writers: (SETF PREV)\n",
      "      Documentation:\n",
      "       The previous DNA CHEM-OBJ in dna sequence. Together with (next dna) form a doubly linked list of DNA CHEM-OBJS used to represent a grouped sequence of these DNA CHEM-OBJs, which themselves could be at various levels of abstraction (e.g strand composed of nucleotides, or origami scaffolds composed of single and helical strands). These sequences are on the same molecule, i.e. partner strands are not included\n",
      "    NEXT\n",
      "      Initargs: :NEXT\n",
      "      Readers: NEXT\n",
      "      Writers: (SETF NEXT)\n",
      "      Documentation:\n",
      "       The next DNA CHEM-OBJ in dna sequence. Together with (next dna) form a doubly linked list of DNA CHEM-OBJS used to represent a grouped sequence of these DNA CHEM-OBJs, which themselves could be at various levels of abstraction (e.g strand composed of nucleotides, or origami scaffolds composed of single and helical strands). These sequences are on the same molecule, i.e. partner strands are not included\n",
      "    PARTNER\n",
      "      Initargs: :PARTNER\n",
      "      Readers: PARTNER\n",
      "      Writers: (SETF PARTNER)\n",
      "      Documentation:\n",
      "       A DNA-NT object that forms a Watson-Crick base pair\n"
     ]
    }
   ],
   "source": [
    "(describe 'dna)"
   ]
  },
  {
   "cell_type": "code",
   "execution_count": 6,
   "metadata": {},
   "outputs": [
    {
     "name": "stdout",
     "output_type": "stream",
     "text": [
      "\n",
      "SMALL::DNA-ORIGAMI\n",
      "  [symbol]\n",
      "\n",
      "DNA-ORIGAMI names the standard-class #<STANDARD-CLASS SMALL::DNA-ORIGAMI>:\n",
      "  Direct superclasses: DNA\n",
      "  Direct subclasses: DNA-CUBE, DNA-CONE, DNA-TRIANGLE, DNA-TILE\n",
      "  Not yet finalized.\n",
      "  Direct slots:\n",
      "    SCAFFOLD\n",
      "      Initargs: :SCAFFOLD\n",
      "      Readers: SCAFFOLD\n",
      "      Writers: (SETF SCAFFOLD)\n",
      "      Documentation:\n",
      "       The sub chem-objs defining the DNA origamis scaffold strand\n",
      "    EDGE-STAPLES\n",
      "      Initargs: :EDGE-STAPLES\n",
      "      Readers: EDGE-STAPLES\n",
      "      Writers: (SETF EDGE-STAPLES)\n",
      "      Documentation:\n",
      "       The sub chem-objs defining the DNA origamis edge-staples\n",
      "    5NT\n",
      "      Initargs: :5NT\n",
      "      Readers: 5NT\n",
      "      Writers: (SETF 5NT)\n",
      "      Documentation:\n",
      "       The DNA-NT at the 5'end of the DNA-STRAND\n",
      "    3NT\n",
      "      Initargs: :3NT\n",
      "      Readers: 3NT\n",
      "      Writers: (SETF 3NT)\n",
      "      Documentation:\n",
      "       The DNA-NT at the 3'end of the DNA-STRAND\n"
     ]
    }
   ],
   "source": [
    "(describe 'dna-origami)"
   ]
  },
  {
   "cell_type": "code",
   "execution_count": null,
   "metadata": {},
   "outputs": [],
   "source": []
  }
 ],
 "metadata": {
  "kernelspec": {
   "display_name": "Common Lisp",
   "language": "common-lisp",
   "name": "common-lisp"
  },
  "language_info": {
   "codemirror_mode": "text/x-common-lisp",
   "file_extension": ".lisp",
   "mimetype": "text/x-common-lisp",
   "name": "common-lisp",
   "pygments_lexer": "common-lisp",
   "version": "2.0.1.debian"
  }
 },
 "nbformat": 4,
 "nbformat_minor": 4
}
