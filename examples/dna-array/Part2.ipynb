{
 "cells": [
  {
   "cell_type": "markdown",
   "metadata": {},
   "source": [
    "# Introduction\n",
    "In this part of the tutorial we will use the `dna-triangle`s that we made in Part 1 to make the DNA tile of [Tikhomirov et al](https://doi.org/10.1038/nnano.2016.256), shown below. To do so we will use 4 of the `dna-triangle` created in part 1 to implement a the four triangles that make up the tile. We create a `dna-tile` class to create the abstraction  that representing a DNA tile.\n",
    "\n",
    "![DNA Tile](greg-tile.png)\n",
    "\n",
    "During this we show case some of the geometric manipulation functionality that `small` provides and takes a deeper look at the parent-child hierarchy. Finally we will demonstrate how to create staples to join the triangle and tiles together and how to set the sequence of our `dna` objects. \n",
    "\n",
    "Lets get started! First we need to import the definitions of the `dna-triangle` that we created in Part 1. To do we we use the `load` function to load in the whole file. Note we load the .lisp file with the code from part, not the .ipynb file we were working on, although these contain the same code.\n"
   ]
  },
  {
   "cell_type": "code",
   "execution_count": 6,
   "metadata": {},
   "outputs": [
    {
     "name": "stdout",
     "output_type": "stream",
     "text": [
      "To load \"small\":\n",
      "  Load 1 ASDF system:\n",
      "    small\n"
     ]
    },
    {
     "data": {
      "text/plain": [
       "T"
      ]
     },
     "execution_count": 6,
     "metadata": {},
     "output_type": "execute_result"
    },
    {
     "data": {
      "text/plain": [
       "#<PACKAGE \"SMALL\">"
      ]
     },
     "execution_count": 6,
     "metadata": {},
     "output_type": "execute_result"
    },
    {
     "name": "stdout",
     "output_type": "stream",
     "text": [
      "\n",
      "; Loading \"small\"\n",
      "\n",
      "[SB-KERNEL:REDEFINITION-WITH-DEFUN] redefining SMALL::AI in DEFUN\n",
      "\n",
      "#<FUNCTION AI>\n",
      "  [compiled function]\n",
      "\n",
      "\n",
      "Lambda-list: (I)\n",
      "Derived type: (FUNCTION (T) *)\n",
      "Documentation:\n",
      "  Calculate the number of base pairs in the i-th of the a DNA triangle that makes up the DNA square\n",
      "Source file: /home/dd/quicklisp/local-projects/small/examples/dna-array/./part1.lisp\n",
      "[SB-KERNEL:REDEFINITION-WITH-DEFUN] redefining SMALL::TRI-AX-X in DEFUN\n",
      "[SB-KERNEL:REDEFINITION-WITH-DEFUN] redefining SMALL::TRI-AX-Y in DEFUN\n",
      "[SB-KERNEL:REDEFINITION-WITH-DEFUN] redefining SMALL::TRI-AX-Z in DEFUN\n",
      "[SB-KERNEL:REDEFINITION-WITH-DEFUN] redefining SMALL::TRI-AX-COORDS in DEFUN\n",
      "[SB-KERNEL:REDEFINITION-WITH-DEFUN] redefining SMALL::THETA-1IJ in DEFUN\n",
      "[SB-KERNEL:REDEFINITION-WITH-DEFUN] redefining SMALL::THETA-1IJ-SCAFFOLD in DEFUN\n",
      "[SB-KERNEL:REDEFINITION-WITH-DEFUN] redefining SMALL::TRI-SCAF-COORDS in DEFUN\n",
      "[SB-KERNEL:REDEFINITION-WITH-DEFUN] redefining SMALL::TRI-SCAFFOLD-HELIX in DEFUN\n",
      "[SB-KERNEL:REDEFINITION-WITH-DEFUN] redefining SMALL::TRI-SCAF-LOOP in DEFUN\n",
      "\n",
      "SMALL::DNA-ORIGAMI\n",
      "  [symbol]\n",
      "\n",
      "DNA-ORIGAMI names the standard-class #<STANDARD-CLASS SMALL::DNA-ORIGAMI>:\n",
      "  Class precedence-list: DNA-ORIGAMI, DNA, CHEM-OBJ, STANDARD-OBJECT,\n",
      "                         SB-PCL::SLOT-OBJECT, T\n",
      "  Direct superclasses: DNA\n",
      "  Direct subclasses: DNA-CUBE, DNA-CONE, DNA-TRIANGLE, DNA-TILE\n",
      "  Direct slots:\n",
      "    SCAFFOLD\n",
      "      Initargs: :SCAFFOLD\n",
      "      Readers: SCAFFOLD\n",
      "      Writers: (SETF SCAFFOLD)\n",
      "      Documentation:\n",
      "       The sub chem-objs defining the DNA origamis scaffold strand\n",
      "    EDGE-STAPLES\n",
      "      Initargs: :EDGE-STAPLES\n",
      "      Readers: EDGE-STAPLES\n",
      "      Writers: (SETF EDGE-STAPLES)\n",
      "      Documentation:\n",
      "       The sub chem-objs defining the DNA origamis edge-staples\n",
      "    5NT\n",
      "      Initargs: :5NT\n",
      "      Readers: 5NT\n",
      "      Writers: (SETF 5NT)\n",
      "      Documentation:\n",
      "       The DNA-NT at the 5'end of the DNA-STRAND\n",
      "    3NT\n",
      "      Initargs: :3NT\n",
      "      Readers: 3NT\n",
      "      Writers: (SETF 3NT)\n",
      "      Documentation:\n",
      "       The DNA-NT at the 3'end of the DNA-STRAND\n",
      "[SB-KERNEL:REDEFINITION-WITH-DEFMETHOD] redefining INITIALIZE-INSTANCE :AFTER (#<STANDARD-CLASS SMALL::DNA-TRIANGLE>) in DEFMETHOD\n"
     ]
    }
   ],
   "source": [
    "(load \"./part1.lisp\")\n",
    "(in-package :small)"
   ]
  },
  {
   "cell_type": "markdown",
   "metadata": {},
   "source": [
    "# Creating The `dna-tile` Classs\n",
    "First we create a class to hold the DNA Tile abstraction. This is similar to what we did in part 1 where we created the `dna-triangle` to represent the DNA triangle.\n"
   ]
  },
  {
   "cell_type": "code",
   "execution_count": 7,
   "metadata": {},
   "outputs": [
    {
     "data": {
      "text/plain": [
       "#<STANDARD-CLASS SMALL::DNA-TILE>"
      ]
     },
     "execution_count": 7,
     "metadata": {},
     "output_type": "execute_result"
    }
   ],
   "source": [
    "(defclass/std dna-tile (dna-origami)\n",
    "  ((t1 :doc \"triangle 1\" :std (make-instance 'dna-triangle))\n",
    "   (t2 :doc \"triangle 2\" :std (make-instance 'dna-triangle))\n",
    "   (t3 :doc \"triangle 3\" :std (make-instance 'dna-triangle))\n",
    "   (t4 :doc \"triangle 4\" :std (make-instance 'dna-triangle))\n",
    "   (stap-bridges :doc \"Staple Bridges\"))\n",
    "  (:documentation \"An implementation the DNA tile of Tikhomirov et al https://www.nature.com/articles/nnano.2016.256\"))"
   ]
  },
  {
   "cell_type": "markdown",
   "metadata": {},
   "source": [
    "Notice that now we have added the custom slots `t1`-`t4` to our `dna-tile` class, whereas when defining the  `dna-triangle` we only had the slots we inherited from the `dna-origami` superclass. These slots are each initialized to hold an instance of the `dna-triangle` class, which we use to construct the tile the tile.\n",
    "\n",
    "Next we rotate the `dna-triangle`s to position them to form the `dna-tile`. "
   ]
  },
  {
   "cell_type": "code",
   "execution_count": 8,
   "metadata": {},
   "outputs": [
    {
     "data": {
      "text/plain": [
       "#<STANDARD-METHOD COMMON-LISP:INITIALIZE-INSTANCE :AFTER (DNA-TILE) {10027E7153}>"
      ]
     },
     "execution_count": 8,
     "metadata": {},
     "output_type": "execute_result"
    },
    {
     "name": "stdout",
     "output_type": "stream",
     "text": [
      "[SB-KERNEL:REDEFINITION-WITH-DEFMETHOD] redefining INITIALIZE-INSTANCE :AFTER (#<STANDARD-CLASS SMALL::DNA-TILE>) in DEFMETHOD\n"
     ]
    }
   ],
   "source": [
    "(defmethod initialize-instance :after ((obj dna-tile) &key)\n",
    "  (with-accessors ((t1 t1) (t2 t2) (t3 t3) (t4 t4)) obj\n",
    "    (let* ((rot90 (rotation-matrix (v3 0 1 0) (/ pi -2)))\n",
    "\t   (rot180 (rotation-matrix (v3 0 1 0) pi))\n",
    "\t   (rot270 (rotation-matrix (v3 0 1 0) (/ (* 3 pi) -2))))\n",
    "      (rotate-obj t2 rot90)\n",
    "      (rotate-obj t3 rot180)\n",
    "      (rotate-obj t4 rot270))))"
   ]
  },
  {
   "cell_type": "markdown",
   "metadata": {},
   "source": [
    "\n",
    "We used the [`with-accessors` function](http://www.lispworks.com/documentation/HyperSpec/Body/m_w_acce.htm) to retrieve the objects in the `t1`-`t4` slots of the `dna-tile`. `with-accessors` first argument is a list where each element of the list is a two-item list containing a variable name and the name of an accessor function for a class, the second is an instance of that class. The result is that the variable are bound to the slots of the object passed as the second argument (this is similar to the `let` function in that it binds variables). For more information on classes in Common Lisp [see here](http://www.gigamonkeys.com/book/object-reorientation-classes.html).\n",
    "\n",
    "We then create rotation matrices to represent the rotation we want performed on the `dna-triangle`s. `small` provides the `rotation-matrix` function (defined in [linear-algebra.lisp file](https://github.com/DurhamSmith/small/blob/master/linear-algebra.lisp)) to easily create rotation matrices. It takes a vector, which is the axis to rotate around and an angle in radians and returns a 3x3 matrix representing a rotation of the angle around the \n",
    "\n",
    "Here we have used the `rotate-obj` function to rotate triangles 2-4. Applying geometric manipulations (translation, rotation) on a `chem-obj` (the fundamental superclass that `small` uses to represent chemical entities) that is `parent` to other objects effects all the `children`, however geometrically manipulating a child has no effect on the `parent` objects coordinates, only on that of the children. The function `all-tfms` retrieves the list transformations that will be applied to the object. We can see this parent-child behavior;\n"
   ]
  },
  {
   "cell_type": "code",
   "execution_count": 13,
   "metadata": {},
   "outputs": [
    {
     "data": {
      "text/plain": [
       "NIL"
      ]
     },
     "execution_count": 13,
     "metadata": {},
     "output_type": "execute_result"
    },
    {
     "name": "stdout",
     "output_type": "stream",
     "text": [
      "\n",
      " T2: ((rotate\n",
      "  . #<MATRIX/DOUBLE-FLOAT (3x3):\n",
      "       0.000     0.000    -1.000\n",
      "       0.000     1.000     0.000\n",
      "       1.000     0.000     0.000>)) \n",
      "\n",
      " 5nt:T2 ((rotate\n",
      "  . #<MATRIX/DOUBLE-FLOAT (3x3):\n",
      "       0.000     0.000    -1.000\n",
      "       0.000     1.000     0.000\n",
      "       1.000     0.000     0.000>)) \n",
      "\n",
      " Now we rotate the child  \n",
      "\n",
      " T2: ((rotate\n",
      "  . #<MATRIX/DOUBLE-FLOAT (3x3):\n",
      "       0.000     0.000    -1.000\n",
      "       0.000     1.000     0.000\n",
      "       1.000     0.000     0.000>)) \n",
      "\n",
      " 5nt:T2 ((rotate\n",
      "  . #<MATRIX/DOUBLE-FLOAT (3x3):\n",
      "       0.000     0.000    -1.000\n",
      "       0.000     1.000     0.000\n",
      "       1.000     0.000     0.000>)\n",
      " (rotate\n",
      "  . #<MATRIX/DOUBLE-FLOAT (3x3):\n",
      "      -1.000     0.000     0.000\n",
      "       0.000     1.000     0.000\n",
      "      -0.000     0.000    -1.000>)) \n"
     ]
    }
   ],
   "source": [
    "(with-accessors ((t1 t1) (t2 t2) (t3 t3) (t4 t4)) (make-instance 'dna-tile)\n",
    "  (format t \"~& T2: ~A ~%\" (all-tfms t2))\n",
    "  (format t \"~& 5nt:T2 ~A ~%\" (all-tfms (5nt t2)))\n",
    "  (format t \"~& Now we rotate the child  ~%\")\n",
    "  (rotate-obj (5nt t2) (rotation-matrix (v3 0 1 0) pi))\n",
    "  (format t \"~& T2: ~A ~%\" (all-tfms t2))\n",
    "  (format t \"~& 5nt:T2 ~A ~%\" (all-tfms (5nt t2))))"
   ]
  },
  {
   "cell_type": "markdown",
   "metadata": {},
   "source": [
    "We see that even after we rotate the `5nt` (the `dna-nt` at the 5' end of strand) the transformations applied to its `parent`, the `dna-triangle`, remain the same.\n",
    "\n",
    "We can write the `dna-tiles` nucleotides out and see the tile that we have created in applicable viewer such as oxview."
   ]
  },
  {
   "cell_type": "code",
   "execution_count": 15,
   "metadata": {},
   "outputs": [
    {
     "data": {
      "text/plain": [
       "NIL"
      ]
     },
     "execution_count": 15,
     "metadata": {},
     "output_type": "execute_result"
    }
   ],
   "source": [
    "(with-accessors ((t1 t1) (t2 t2) (t3 t3) (t4 t4)) (make-instance 'dna-tile)\n",
    "  (wmdna \"tile-v0\" t1 t2 t3 t4))"
   ]
  },
  {
   "cell_type": "markdown",
   "metadata": {},
   "source": [
    "![DNA Tile V0](tile-v0.png)"
   ]
  },
  {
   "cell_type": "markdown",
   "metadata": {},
   "source": [
    "# Adding Scaffold Bridges\n",
    "We see that the triangles (and the `dna-helix-strand`s and `dna-nt`s they contain) have been rotated. Notice how we have retrieved each individual triangle from the tile and written it out. This is because currently the triangle are disconnected entities. We fix this by adding each triangle to the `dna-tile`s scaffold using the `add-to-scaffold` function (introduced in part 1) provided by the `dna-origami` class (that we used as a superclass when creating the tile). We redefine the `initialize-instance` function \n",
    "specialized on `dna-tile` so that the `dna-triangle`s are added to the scaffold when we create an instance of `dna-tile` instead of having to do it manually every time.\n"
   ]
  },
  {
   "cell_type": "code",
   "execution_count": 17,
   "metadata": {},
   "outputs": [
    {
     "data": {
      "text/plain": [
       "#<STANDARD-METHOD COMMON-LISP:INITIALIZE-INSTANCE :AFTER (DNA-TILE) {10097814B3}>"
      ]
     },
     "execution_count": 17,
     "metadata": {},
     "output_type": "execute_result"
    },
    {
     "name": "stdout",
     "output_type": "stream",
     "text": [
      "[SB-KERNEL:REDEFINITION-WITH-DEFMETHOD] redefining INITIALIZE-INSTANCE :AFTER (#<STANDARD-CLASS SMALL::DNA-TILE>) in DEFMETHOD\n"
     ]
    }
   ],
   "source": [
    "(defmethod initialize-instance :after ((obj dna-tile) &key)\n",
    "  (with-accessors ((t1 t1) (t2 t2) (t3 t3) (t4 t4)) obj\n",
    "    (let* ((rot90 (rotation-matrix (v3 0 1 0) (/ pi -2)))\n",
    "\t   (rot180 (rotation-matrix (v3 0 1 0) pi))\n",
    "\t   (rot270 (rotation-matrix (v3 0 1 0) (/ (* 3 pi) -2))))\n",
    "      (rotate-obj t2 rot90)\n",
    "      (rotate-obj t3 rot180)\n",
    "      (rotate-obj t4 rot270))\n",
    "    (add-to-scaffold obj t1)\n",
    "    (add-to-scaffold obj t2)\n",
    "    (add-to-scaffold obj t3)\n",
    "    (add-to-scaffold obj t4)))"
   ]
  },
  {
   "cell_type": "markdown",
   "metadata": {},
   "source": [
    "\n",
    "This has set the `5nt` and `3nt` of the tile, as well as connected the ith triangle to the i+1th when they were added to the scaffold. Again we can write this to a file and see the results, this time without needing to retrieve all the `dna-triangle`s individually."
   ]
  },
  {
   "cell_type": "code",
   "execution_count": 18,
   "metadata": {},
   "outputs": [
    {
     "data": {
      "text/plain": [
       "NIL"
      ]
     },
     "execution_count": 18,
     "metadata": {},
     "output_type": "execute_result"
    }
   ],
   "source": [
    "(wmdna \"tile-v1\"  (make-instance 'dna-tile))"
   ]
  },
  {
   "cell_type": "markdown",
   "metadata": {},
   "source": [
    "![DNA Tile V1](tile-v1.png)"
   ]
  },
  {
   "cell_type": "markdown",
   "metadata": {},
   "source": [
    "\n",
    "All looks good! Or does it? When we closely examine the connections between `dna-triangles` we notice have forgotten to add the scaffold bridges that join `dna-triangle` i to `dna-triangle` i+1. Not to worry this is easily fixed. Again we will use the `bridging-single-strand` function (introduced in part 1), this time explicitly passing the number of nucleotides to be 10 (as in the paper see SI p9). Lets create a function to do this.\n",
    "\n",
    "First we define a utility function to retun `dna-triangle` `k` when the `dna-tile` and triangle index `k` (1-4)\n"
   ]
  },
  {
   "cell_type": "code",
   "execution_count": 19,
   "metadata": {},
   "outputs": [
    {
     "data": {
      "text/plain": [
       "GET-TRIANGLE"
      ]
     },
     "execution_count": 19,
     "metadata": {},
     "output_type": "execute_result"
    },
    {
     "name": "stdout",
     "output_type": "stream",
     "text": [
      "[SB-INT:FORMAT-TOO-FEW-ARGS-WARNING] Too few arguments (0) to ERROR \"k=~A is not a valid triangle index\": requires at least 1.\n",
      "See also:\n",
      "  The ANSI Standard, Section 22.3.10.2\n"
     ]
    }
   ],
   "source": [
    "(defun get-triangle (tile k)\n",
    "  \"Utility function to retrieve triangle k from the tile\"\n",
    "  (cond ((= k 1) (t1 tile))\n",
    "\t((= k 2) (t2 tile))\n",
    "\t((= k 3) (t3 tile))\n",
    "\t((= k 4) (t4 tile))\n",
    "\t(t (error \"k=~A is not a valid triangle index\"))))"
   ]
  },
  {
   "cell_type": "markdown",
   "metadata": {},
   "source": [
    "Now we can define the function to create the scaffold bridge. Its arguments are a `dna-tile` and triangle index `k` and returns a `dna-single-strand` the spans the distance from the 3' end of the kth triangle to the 5' end of the k+1th triangle.\n"
   ]
  },
  {
   "cell_type": "code",
   "execution_count": 20,
   "metadata": {},
   "outputs": [
    {
     "data": {
      "text/plain": [
       "TILE-STAP-BRIDGE"
      ]
     },
     "execution_count": 20,
     "metadata": {},
     "output_type": "execute_result"
    }
   ],
   "source": [
    "(defun tile-stap-bridge (tile k)\n",
    "  \"Returns a DNA-SINGLE-STRAND that connects triangle k to triangle k+1 in the tile\"\n",
    "  (let* ((tk (get-triangle tile k))\n",
    "\t (tk+1 (get-triangle tile (1+ k)))\n",
    "\t (axis-k (axis (3nt tk)))   ;; Retrive the helix axis coords of last nucleotide in triangle k\n",
    "\t (axis-k+1 (axis (5nt tk+1)))) ;; Retrive the helix axis coords of first nucleotide in triangle k+1\n",
    "    (bridging-single-strand axis-k axis-k+1 (v3 0 1 0) :len 10)))"
   ]
  },
  {
   "cell_type": "markdown",
   "metadata": {},
   "source": [
    "In defining `tile-stap-bridge` we used the function `axis` which takes a `dna-nt` and returns the coordinates of its axis. `small` provides many such function for the retrieval of geometric points, one can look at the [dna.lisp](https://github.com/DurhamSmith/small/blob/master/dna.lisp) file to find more such functions. Lets check that this works as expected\n"
   ]
  },
  {
   "cell_type": "code",
   "execution_count": 21,
   "metadata": {},
   "outputs": [
    {
     "data": {
      "text/plain": [
       "#<DNA-SINGLE-STRAND {10045C8B03}>"
      ]
     },
     "execution_count": 21,
     "metadata": {},
     "output_type": "execute_result"
    },
    {
     "data": {
      "text/plain": [
       "(#<DNA-NT {10045BD1B3}> #<DNA-NT {10045BE513}> #<DNA-NT {10045BF883}>\n",
       " #<DNA-NT {10045C0BF3}> #<DNA-NT {10045C1F63}> #<DNA-NT {10045C32D3}>\n",
       " #<DNA-NT {10045C4643}> #<DNA-NT {10045C59B3}> #<DNA-NT {10045C6D23}>\n",
       " #<DNA-NT {10045C8093}>)"
      ]
     },
     "execution_count": 21,
     "metadata": {},
     "output_type": "execute_result"
    }
   ],
   "source": [
    "(tile-stap-bridge (make-instance 'dna-tile) 1)"
   ]
  },
  {
   "cell_type": "markdown",
   "metadata": {},
   "source": [
    "We see that `tile-stap-bridge` makes use of Common Lisps ability to return multiple value. It returns a  `DNA-SINGLE-STRAND` and a list of the `DNA-NT`s that are contained in it. We see that there are 10 DNA as expected.\n",
    "\n",
    "Now lets modify our initialization of the `dna-tile` to add the scaffold bridges to our scaffold.\n"
   ]
  },
  {
   "cell_type": "code",
   "execution_count": 22,
   "metadata": {},
   "outputs": [
    {
     "data": {
      "text/plain": [
       "#<STANDARD-METHOD COMMON-LISP:INITIALIZE-INSTANCE :AFTER (DNA-TILE) {100478D2D3}>"
      ]
     },
     "execution_count": 22,
     "metadata": {},
     "output_type": "execute_result"
    },
    {
     "name": "stdout",
     "output_type": "stream",
     "text": [
      "[SB-KERNEL:REDEFINITION-WITH-DEFMETHOD] redefining INITIALIZE-INSTANCE :AFTER (#<STANDARD-CLASS SMALL::DNA-TILE>) in DEFMETHOD\n"
     ]
    }
   ],
   "source": [
    "(defmethod initialize-instance :after ((obj dna-tile) &key)\n",
    "  (with-accessors ((t1 t1) (t2 t2) (t3 t3) (t4 t4)) obj\n",
    "    (let* ((rot90 (rotation-matrix (v3 0 1 0) (/ pi -2)))\n",
    "\t   (rot180 (rotation-matrix (v3 0 1 0) pi))\n",
    "\t   (rot270 (rotation-matrix (v3 0 1 0) (/ (* 3 pi) -2))))\n",
    "      (rotate-obj t2 rot90)\n",
    "      (rotate-obj t3 rot180)\n",
    "      (rotate-obj t4 rot270))\n",
    "    (add-to-scaffold obj t1)\n",
    "    (add-to-scaffold obj (tile-stap-bridge obj 1))\n",
    "    (add-to-scaffold obj t2)\n",
    "    (add-to-scaffold obj (tile-stap-bridge obj 2))\n",
    "    (add-to-scaffold obj t3)\n",
    "    (add-to-scaffold obj (tile-stap-bridge obj 3))\n",
    "    (add-to-scaffold obj t4)))"
   ]
  },
  {
   "cell_type": "markdown",
   "metadata": {},
   "source": [
    "Let write out the `dna-tile` and see thta the scaffold bridges are included."
   ]
  },
  {
   "cell_type": "code",
   "execution_count": 23,
   "metadata": {},
   "outputs": [
    {
     "data": {
      "text/plain": [
       "NIL"
      ]
     },
     "execution_count": 23,
     "metadata": {},
     "output_type": "execute_result"
    }
   ],
   "source": [
    "(wmdna \"tile-v2\"  (make-instance 'dna-tile))"
   ]
  },
  {
   "cell_type": "markdown",
   "metadata": {},
   "source": [
    "![DNA Tile V2](tile-v2.png)\n",
    "Great! The staple bridges are included and everything is as expected"
   ]
  },
  {
   "cell_type": "code",
   "execution_count": null,
   "metadata": {},
   "outputs": [],
   "source": []
  }
 ],
 "metadata": {
  "kernelspec": {
   "display_name": "Common Lisp",
   "language": "common-lisp",
   "name": "common-lisp"
  },
  "language_info": {
   "codemirror_mode": "text/x-common-lisp",
   "file_extension": ".lisp",
   "mimetype": "text/x-common-lisp",
   "name": "common-lisp",
   "pygments_lexer": "common-lisp",
   "version": "2.0.1.debian"
  }
 },
 "nbformat": 4,
 "nbformat_minor": 4
}
